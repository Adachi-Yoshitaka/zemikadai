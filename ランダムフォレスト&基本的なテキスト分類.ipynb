{
  "nbformat": 4,
  "nbformat_minor": 0,
  "metadata": {
    "colab": {
      "name": "ランダムフォレスト&基本的なテキスト分類.ipynb",
      "provenance": [],
      "collapsed_sections": [],
      "authorship_tag": "ABX9TyOrUWuT+78bLPeC2IBeKPQ/",
      "include_colab_link": true
    },
    "kernelspec": {
      "name": "python3",
      "display_name": "Python 3"
    },
    "language_info": {
      "name": "python"
    }
  },
  "cells": [
    {
      "cell_type": "markdown",
      "metadata": {
        "id": "view-in-github",
        "colab_type": "text"
      },
      "source": [
        "<a href=\"https://colab.research.google.com/github/Adachi-Yoshitaka/zemikadai/blob/main/%E3%83%A9%E3%83%B3%E3%83%80%E3%83%A0%E3%83%95%E3%82%A9%E3%83%AC%E3%82%B9%E3%83%88%26%E5%9F%BA%E6%9C%AC%E7%9A%84%E3%81%AA%E3%83%86%E3%82%AD%E3%82%B9%E3%83%88%E5%88%86%E9%A1%9E.ipynb\" target=\"_parent\"><img src=\"https://colab.research.google.com/assets/colab-badge.svg\" alt=\"Open In Colab\"/></a>"
      ]
    },
    {
      "cell_type": "code",
      "execution_count": null,
      "metadata": {
        "id": "gybiH01sqilr"
      },
      "outputs": [],
      "source": [
        "import numpy as np\n",
        "import pandas as pd\n",
        "from sklearn.ensemble import RandomForestClassifier\n",
        "from matplotlib import pyplot as plt"
      ]
    },
    {
      "cell_type": "code",
      "source": [
        "# データを用意する------------------------------------------\n",
        "df = pd.DataFrame()                                          # データフレーム初期化\n",
        "n = 20                                                       # 1クラス毎のデータ数\n",
        "for i in range(3):                                           # データ作成ループ\n",
        "    if i == 0:\n",
        "        x = pd.Series(np.random.uniform(0.5, 2.8, n))\n",
        "        y = pd.Series(x * np.random.uniform(0.8, 1.2, n))\n",
        "    elif i == 1:\n",
        "        x = pd.Series(np.random.uniform(2.2, 3.8, n))\n",
        "        y = pd.Series(np.random.uniform(0.5, 1.8, n))\n",
        "    else:\n",
        "        x = pd.Series(np.random.uniform(3.2, 3.8, n))\n",
        "        y = pd.Series(np.random.uniform(2.2, 3.8, n))\n",
        "    label = pd.Series(np.full(n, i))                         # ラベル（クラス）を作成\n",
        "    temp_df = pd.DataFrame(np.c_[x, y, label])               # クラス毎のデータフレームを作成\n",
        "    df = pd.concat([df, temp_df])                            # 作成されたクラス毎のデータを逐次結合\n",
        "df.index = np.arange(0, len(df), 1)                          # index(行ラベル)を初期化"
      ],
      "metadata": {
        "id": "zz1M6Xqlrn5X"
      },
      "execution_count": null,
      "outputs": []
    },
    {
      "cell_type": "code",
      "source": [
        "# クラス毎のデータフレームに分離（プロット用）\n",
        "class_0 = df[df[2] == 0]                                     # ラベル0を抽出\n",
        "class_1 = df[df[2] == 1]                                     # ラベル1を抽出\n",
        "class_2 = df[df[2] == 2]                                     # ラベル2を抽出"
      ],
      "metadata": {
        "id": "zbKNcuy1r-Ss"
      },
      "execution_count": null,
      "outputs": []
    },
    {
      "cell_type": "code",
      "source": [
        "print(class_2)"
      ],
      "metadata": {
        "colab": {
          "base_uri": "https://localhost:8080/"
        },
        "id": "B5W0HAZusHFb",
        "outputId": "98d15a81-ecc4-42fb-93dc-a6ff23c21f49"
      },
      "execution_count": null,
      "outputs": [
        {
          "output_type": "stream",
          "name": "stdout",
          "text": [
            "           0         1    2\n",
            "40  3.376978  2.701241  2.0\n",
            "41  3.389850  3.749316  2.0\n",
            "42  3.489144  3.560866  2.0\n",
            "43  3.311516  3.085084  2.0\n",
            "44  3.582160  3.509051  2.0\n",
            "45  3.551714  3.089563  2.0\n",
            "46  3.520615  2.434104  2.0\n",
            "47  3.208644  2.427351  2.0\n",
            "48  3.374110  2.809875  2.0\n",
            "49  3.344680  2.294701  2.0\n",
            "50  3.325723  2.922552  2.0\n",
            "51  3.269651  3.162450  2.0\n",
            "52  3.594548  2.803957  2.0\n",
            "53  3.519720  2.227658  2.0\n",
            "54  3.347854  3.072264  2.0\n",
            "55  3.208989  2.520493  2.0\n",
            "56  3.437158  3.433793  2.0\n",
            "57  3.406942  2.623939  2.0\n",
            "58  3.679395  3.198562  2.0\n",
            "59  3.598482  2.259661  2.0\n"
          ]
        }
      ]
    },
    {
      "cell_type": "code",
      "source": [
        "# 学習させる値(訓練データ)とクラス(正解ラベル)に分離\n",
        "data = df[[0, 1]]                                            # 訓練データ\n",
        "data_class = pd.Series(df[2])                                # 正解ラベル"
      ],
      "metadata": {
        "id": "NHTxr1v1sNb9"
      },
      "execution_count": null,
      "outputs": []
    },
    {
      "cell_type": "code",
      "source": [
        "# 決定木による学習\n",
        "clf = RandomForestClassifier(n_estimators=100,               # 決定木の数\n",
        "                             criterion='gini',               # 不純度評価指標の種類(ジニ係数）\n",
        "                             max_depth=3,                    # 木の深さ\n",
        "                             min_samples_leaf=1,             # 1ノード（葉）の最小クラス数\n",
        "                             max_features='auto')            # 最大特徴量数\n",
        "clf.fit(data, data_class)                                    # フィッティング\n",
        "r2 = clf.score(data, data_class)                             # 決定係数を算出"
      ],
      "metadata": {
        "id": "XiDk_Sojs3lr"
      },
      "execution_count": null,
      "outputs": []
    },
    {
      "cell_type": "code",
      "source": [
        "# 決定境界可視化用\n",
        "grid_line = np.arange(-10, 10, 0.05)                         # グリッドデータのための配列を生成\n",
        "X, Y = np.meshgrid(grid_line, grid_line)                     # グリッドを作成\n",
        "Z = clf.predict(np.array([X.ravel(), Y.ravel()]).T)          # .predictが使えるデータshapeに変換して予測\n",
        "Z = Z.reshape(X.shape)                                       # 3Dプロットするためにshapeを再変換"
      ],
      "metadata": {
        "id": "Tm8R81o1s7ro"
      },
      "execution_count": null,
      "outputs": []
    },
    {
      "cell_type": "code",
      "source": [
        "# フォントの種類とサイズを設定する。\n",
        "plt.rcParams['font.size'] = 14\n",
        "plt.rcParams['font.family'] = 'Times New Roman'\n",
        " \n",
        "# 目盛を内側にする。\n",
        "plt.rcParams['xtick.direction'] = 'in'\n",
        "plt.rcParams['ytick.direction'] = 'in'\n",
        " \n",
        "fig = plt.figure()\n",
        "ax1 = plt.subplot(111)\n",
        " \n",
        "# グラフの上下左右に目盛線を付ける。\n",
        "ax1.yaxis.set_ticks_position('both')\n",
        "ax1.xaxis.set_ticks_position('both')\n",
        " \n",
        "# 軸のラベルを設定する。\n",
        "ax1.set_xlabel('x')\n",
        "ax1.set_ylabel('y')\n",
        " \n",
        "# スケールの設定をする。\n",
        "ax1.set_xlim(0, 4)\n",
        "ax1.set_ylim(0, 4)\n",
        " \n",
        "# データプロットする。\n",
        "ax1.contourf(X, Y, Z, cmap='coolwarm')\n",
        "ax1.scatter(class_0[0], class_0[1], label='class=0', edgecolors='black')\n",
        "ax1.scatter(class_1[0], class_1[1], label='class=1', edgecolors='black')\n",
        "ax1.scatter(class_2[0], class_2[1], label='class=2', edgecolors='black')\n",
        "plt.text(0.5, 2.2, '$\\ R^{2}=$' + str(round(r2, 2)), fontsize=20)\n",
        " \n",
        "plt.legend()\n",
        " \n",
        "# グラフを表示する。\n",
        "plt.show()\n",
        "plt.close()"
      ],
      "metadata": {
        "colab": {
          "base_uri": "https://localhost:8080/",
          "height": 325
        },
        "id": "2Aa4SxkitCEZ",
        "outputId": "3843e90b-7f71-4f27-e7d5-c750e4768fc3"
      },
      "execution_count": null,
      "outputs": [
        {
          "output_type": "stream",
          "name": "stderr",
          "text": [
            "findfont: Font family ['Times New Roman'] not found. Falling back to DejaVu Sans.\n",
            "findfont: Font family ['Times New Roman'] not found. Falling back to DejaVu Sans.\n"
          ]
        },
        {
          "output_type": "display_data",
          "data": {
            "text/plain": [
              "<Figure size 432x288 with 1 Axes>"
            ],
            "image/png": "[encoded data removed]"
          },
          "metadata": {
            "needs_background": "light"
          }
        }
      ]
    },
    {
      "cell_type": "code",
      "source": [
        "from sklearn.model_selection import cross_val_score\n",
        "from sklearn.datasets import make_blobs\n",
        "from sklearn.ensemble import RandomForestClassifier\n",
        "from sklearn.ensemble import ExtraTreesClassifier\n",
        "from sklearn.tree import DecisionTreeClassifier\n",
        "\n",
        "X, y = make_blobs(n_samples=10000, n_features=10, centers=100,\n",
        "    random_state=0)\n",
        "\n",
        "clf = DecisionTreeClassifier(max_depth=None, min_samples_split=2,\n",
        "    random_state=0)\n",
        "scores = cross_val_score(clf, X, y, cv=5)\n",
        "scores.mean()\n",
        "\n",
        "\n",
        "clf = RandomForestClassifier(n_estimators=10, max_depth=None,\n",
        "    min_samples_split=2, random_state=0)\n",
        "scores = cross_val_score(clf, X, y, cv=5)\n",
        "scores.mean()\n",
        "\n",
        "\n",
        "clf = ExtraTreesClassifier(n_estimators=10, max_depth=None,\n",
        "    min_samples_split=2, random_state=0)\n",
        "scores = cross_val_score(clf, X, y, cv=5)\n",
        "scores.mean() > 0.999"
      ],
      "metadata": {
        "colab": {
          "base_uri": "https://localhost:8080/"
        },
        "id": "PNISiK58teST",
        "outputId": "bc1ce1a8-b794-45d8-9526-7959c33093ba"
      },
      "execution_count": null,
      "outputs": [
        {
          "output_type": "execute_result",
          "data": {
            "text/plain": [
              "True"
            ]
          },
          "metadata": {},
          "execution_count": 11
        }
      ]
    },
    {
      "cell_type": "code",
      "source": [
        "from sklearn import tree\n",
        "import numpy as np\n",
        "import pandas as pd\n",
        "from sklearn.datasets import load_breast_cancer\n",
        "from sklearn.ensemble import RandomForestClassifier\n",
        "from matplotlib import pyplot as plt\n",
        "import graphviz\n",
        "import numpy as np\n",
        "cancer = load_breast_cancer()\n",
        "\n",
        "from sklearn.model_selection import train_test_split"
      ],
      "metadata": {
        "id": "ZmxyFjXlu2Ha"
      },
      "execution_count": null,
      "outputs": []
    },
    {
      "cell_type": "code",
      "source": [
        "X, y = cancer.data, cancer.target\n",
        "X_train, X_test, y_train, y_test = train_test_split(\n",
        "    X, y, test_size=0.3, random_state=0, stratify=y)\n",
        "clf = RandomForestClassifier(n_estimators=10, max_depth=2,\n",
        "    min_samples_split=2, random_state=0)\n",
        "clf = clf.fit(X_train, y_train)"
      ],
      "metadata": {
        "id": "2gDa_v0B3zFB"
      },
      "execution_count": null,
      "outputs": []
    },
    {
      "cell_type": "code",
      "source": [
        "dot_data = tree.export_graphviz(clf[0], out_file=None, \n",
        "                     feature_names=cancer.feature_names,  \n",
        "                      class_names=cancer.target_names,  \n",
        "                      filled=True, rounded=True,  \n",
        "                      special_characters=True)  \n",
        "graph = graphviz.Source(dot_data)  \n",
        "graph "
      ],
      "metadata": {
        "colab": {
          "base_uri": "https://localhost:8080/",
          "height": 440
        },
        "id": "KYrA81sq4lLA",
        "outputId": "9b3edd32-b37d-489c-c00c-4fbee3304140"
      },
      "execution_count": null,
      "outputs": [
        {
          "output_type": "execute_result",
          "data": {
            "text/plain": [
              "<graphviz.files.Source at 0x7f5128242110>"
            ],
            "image/svg+xml": "<?xml version=\"1.0\" encoding=\"UTF-8\" standalone=\"no\"?>\n<!DOCTYPE svg PUBLIC \"-//W3C//DTD SVG 1.1//EN\"\n \"http://www.w3.org/Graphics/SVG/1.1/DTD/svg11.dtd\">\n<!-- Generated by graphviz version 2.40.1 (20161225.0304)\n -->\n<!-- Title: Tree Pages: 1 -->\n<svg width=\"580pt\" height=\"314pt\"\n viewBox=\"0.00 0.00 579.50 314.00\" xmlns=\"http://www.w3.org/2000/svg\" xmlns:xlink=\"http://www.w3.org/1999/xlink\">\n<g id=\"graph0\" class=\"graph\" transform=\"scale(1 1) rotate(0) translate(4 310)\">\n<title>Tree</title>\n<polygon fill=\"#ffffff\" stroke=\"transparent\" points=\"-4,4 -4,-310 575.5,-310 575.5,4 -4,4\"/>\n<!-- 0 -->\n<g id=\"node1\" class=\"node\">\n<title>0</title>\n<path fill=\"#a8d4f4\" stroke=\"#000000\" d=\"M361,-306C361,-306 215,-306 215,-306 209,-306 203,-300 203,-294 203,-294 203,-235 203,-235 203,-229 209,-223 215,-223 215,-223 361,-223 361,-223 367,-223 373,-229 373,-235 373,-235 373,-294 373,-294 373,-300 367,-306 361,-306\"/>\n<text text-anchor=\"start\" x=\"211\" y=\"-290.8\" font-family=\"Helvetica,sans-Serif\" font-size=\"14.00\" fill=\"#000000\">mean concavity ≤ 0.093</text>\n<text text-anchor=\"start\" x=\"254.5\" y=\"-275.8\" font-family=\"Helvetica,sans-Serif\" font-size=\"14.00\" fill=\"#000000\">gini = 0.46</text>\n<text text-anchor=\"start\" x=\"240\" y=\"-260.8\" font-family=\"Helvetica,sans-Serif\" font-size=\"14.00\" fill=\"#000000\">samples = 249</text>\n<text text-anchor=\"start\" x=\"230\" y=\"-245.8\" font-family=\"Helvetica,sans-Serif\" font-size=\"14.00\" fill=\"#000000\">value = [143, 255]</text>\n<text text-anchor=\"start\" x=\"241\" y=\"-230.8\" font-family=\"Helvetica,sans-Serif\" font-size=\"14.00\" fill=\"#000000\">class = benign</text>\n</g>\n<!-- 1 -->\n<g id=\"node2\" class=\"node\">\n<title>1</title>\n<path fill=\"#50a9e8\" stroke=\"#000000\" d=\"M272,-187C272,-187 118,-187 118,-187 112,-187 106,-181 106,-175 106,-175 106,-116 106,-116 106,-110 112,-104 118,-104 118,-104 272,-104 272,-104 278,-104 284,-110 284,-116 284,-116 284,-175 284,-175 284,-181 278,-187 272,-187\"/>\n<text text-anchor=\"start\" x=\"114\" y=\"-171.8\" font-family=\"Helvetica,sans-Serif\" font-size=\"14.00\" fill=\"#000000\">mean perimeter ≤ 98.755</text>\n<text text-anchor=\"start\" x=\"161.5\" y=\"-156.8\" font-family=\"Helvetica,sans-Serif\" font-size=\"14.00\" fill=\"#000000\">gini = 0.19</text>\n<text text-anchor=\"start\" x=\"147\" y=\"-141.8\" font-family=\"Helvetica,sans-Serif\" font-size=\"14.00\" fill=\"#000000\">samples = 163</text>\n<text text-anchor=\"start\" x=\"141\" y=\"-126.8\" font-family=\"Helvetica,sans-Serif\" font-size=\"14.00\" fill=\"#000000\">value = [28, 236]</text>\n<text text-anchor=\"start\" x=\"148\" y=\"-111.8\" font-family=\"Helvetica,sans-Serif\" font-size=\"14.00\" fill=\"#000000\">class = benign</text>\n</g>\n<!-- 0&#45;&gt;1 -->\n<g id=\"edge1\" class=\"edge\">\n<title>0&#45;&gt;1</title>\n<path fill=\"none\" stroke=\"#000000\" d=\"M255.4731,-222.8796C248.5049,-213.9633 241.0753,-204.4565 233.8944,-195.268\"/>\n<polygon fill=\"#000000\" stroke=\"#000000\" points=\"236.5812,-193.0221 227.6657,-187.2981 231.0657,-197.3326 236.5812,-193.0221\"/>\n<text text-anchor=\"middle\" x=\"224.6225\" y=\"-208.4122\" font-family=\"Helvetica,sans-Serif\" font-size=\"14.00\" fill=\"#000000\">True</text>\n</g>\n<!-- 4 -->\n<g id=\"node5\" class=\"node\">\n<title>4</title>\n<path fill=\"#e9965a\" stroke=\"#000000\" d=\"M447.5,-187C447.5,-187 314.5,-187 314.5,-187 308.5,-187 302.5,-181 302.5,-175 302.5,-175 302.5,-116 302.5,-116 302.5,-110 308.5,-104 314.5,-104 314.5,-104 447.5,-104 447.5,-104 453.5,-104 459.5,-110 459.5,-116 459.5,-116 459.5,-175 459.5,-175 459.5,-181 453.5,-187 447.5,-187\"/>\n<text text-anchor=\"start\" x=\"310.5\" y=\"-171.8\" font-family=\"Helvetica,sans-Serif\" font-size=\"14.00\" fill=\"#000000\">mean radius ≤ 13.685</text>\n<text text-anchor=\"start\" x=\"343\" y=\"-156.8\" font-family=\"Helvetica,sans-Serif\" font-size=\"14.00\" fill=\"#000000\">gini = 0.243</text>\n<text text-anchor=\"start\" x=\"337\" y=\"-141.8\" font-family=\"Helvetica,sans-Serif\" font-size=\"14.00\" fill=\"#000000\">samples = 86</text>\n<text text-anchor=\"start\" x=\"327\" y=\"-126.8\" font-family=\"Helvetica,sans-Serif\" font-size=\"14.00\" fill=\"#000000\">value = [115, 19]</text>\n<text text-anchor=\"start\" x=\"324.5\" y=\"-111.8\" font-family=\"Helvetica,sans-Serif\" font-size=\"14.00\" fill=\"#000000\">class = malignant</text>\n</g>\n<!-- 0&#45;&gt;4 -->\n<g id=\"edge4\" class=\"edge\">\n<title>0&#45;&gt;4</title>\n<path fill=\"none\" stroke=\"#000000\" d=\"M320.5269,-222.8796C327.4951,-213.9633 334.9247,-204.4565 342.1056,-195.268\"/>\n<polygon fill=\"#000000\" stroke=\"#000000\" points=\"344.9343,-197.3326 348.3343,-187.2981 339.4188,-193.0221 344.9343,-197.3326\"/>\n<text text-anchor=\"middle\" x=\"351.3775\" y=\"-208.4122\" font-family=\"Helvetica,sans-Serif\" font-size=\"14.00\" fill=\"#000000\">False</text>\n</g>\n<!-- 2 -->\n<g id=\"node3\" class=\"node\">\n<title>2</title>\n<path fill=\"#42a2e6\" stroke=\"#000000\" d=\"M112,-68C112,-68 12,-68 12,-68 6,-68 0,-62 0,-56 0,-56 0,-12 0,-12 0,-6 6,0 12,0 12,0 112,0 112,0 118,0 124,-6 124,-12 124,-12 124,-56 124,-56 124,-62 118,-68 112,-68\"/>\n<text text-anchor=\"start\" x=\"24\" y=\"-52.8\" font-family=\"Helvetica,sans-Serif\" font-size=\"14.00\" fill=\"#000000\">gini = 0.086</text>\n<text text-anchor=\"start\" x=\"14\" y=\"-37.8\" font-family=\"Helvetica,sans-Serif\" font-size=\"14.00\" fill=\"#000000\">samples = 153</text>\n<text text-anchor=\"start\" x=\"8\" y=\"-22.8\" font-family=\"Helvetica,sans-Serif\" font-size=\"14.00\" fill=\"#000000\">value = [11, 234]</text>\n<text text-anchor=\"start\" x=\"15\" y=\"-7.8\" font-family=\"Helvetica,sans-Serif\" font-size=\"14.00\" fill=\"#000000\">class = benign</text>\n</g>\n<!-- 1&#45;&gt;2 -->\n<g id=\"edge2\" class=\"edge\">\n<title>1&#45;&gt;2</title>\n<path fill=\"none\" stroke=\"#000000\" d=\"M145.4757,-103.9815C134.0743,-94.4232 121.9595,-84.2668 110.5979,-74.7419\"/>\n<polygon fill=\"#000000\" stroke=\"#000000\" points=\"112.7825,-72.006 102.8706,-68.2637 108.2853,-77.3704 112.7825,-72.006\"/>\n</g>\n<!-- 3 -->\n<g id=\"node4\" class=\"node\">\n<title>3</title>\n<path fill=\"#e89050\" stroke=\"#000000\" d=\"M259.5,-68C259.5,-68 154.5,-68 154.5,-68 148.5,-68 142.5,-62 142.5,-56 142.5,-56 142.5,-12 142.5,-12 142.5,-6 148.5,0 154.5,0 154.5,0 259.5,0 259.5,0 265.5,0 271.5,-6 271.5,-12 271.5,-12 271.5,-56 271.5,-56 271.5,-62 265.5,-68 259.5,-68\"/>\n<text text-anchor=\"start\" x=\"169\" y=\"-52.8\" font-family=\"Helvetica,sans-Serif\" font-size=\"14.00\" fill=\"#000000\">gini = 0.188</text>\n<text text-anchor=\"start\" x=\"163\" y=\"-37.8\" font-family=\"Helvetica,sans-Serif\" font-size=\"14.00\" fill=\"#000000\">samples = 10</text>\n<text text-anchor=\"start\" x=\"161.5\" y=\"-22.8\" font-family=\"Helvetica,sans-Serif\" font-size=\"14.00\" fill=\"#000000\">value = [17, 2]</text>\n<text text-anchor=\"start\" x=\"150.5\" y=\"-7.8\" font-family=\"Helvetica,sans-Serif\" font-size=\"14.00\" fill=\"#000000\">class = malignant</text>\n</g>\n<!-- 1&#45;&gt;3 -->\n<g id=\"edge3\" class=\"edge\">\n<title>1&#45;&gt;3</title>\n<path fill=\"none\" stroke=\"#000000\" d=\"M199.4684,-103.9815C200.3685,-95.618 201.3179,-86.7965 202.2279,-78.3409\"/>\n<polygon fill=\"#000000\" stroke=\"#000000\" points=\"205.7222,-78.5808 203.3124,-68.2637 198.7624,-77.8317 205.7222,-78.5808\"/>\n</g>\n<!-- 5 -->\n<g id=\"node6\" class=\"node\">\n<title>5</title>\n<path fill=\"#a3d1f3\" stroke=\"#000000\" d=\"M412,-68C412,-68 326,-68 326,-68 320,-68 314,-62 314,-56 314,-56 314,-12 314,-12 314,-6 320,0 326,0 326,0 412,0 412,0 418,0 424,-6 424,-12 424,-12 424,-56 424,-56 424,-62 418,-68 412,-68\"/>\n<text text-anchor=\"start\" x=\"331\" y=\"-52.8\" font-family=\"Helvetica,sans-Serif\" font-size=\"14.00\" fill=\"#000000\">gini = 0.454</text>\n<text text-anchor=\"start\" x=\"325\" y=\"-37.8\" font-family=\"Helvetica,sans-Serif\" font-size=\"14.00\" fill=\"#000000\">samples = 16</text>\n<text text-anchor=\"start\" x=\"323.5\" y=\"-22.8\" font-family=\"Helvetica,sans-Serif\" font-size=\"14.00\" fill=\"#000000\">value = [8, 15]</text>\n<text text-anchor=\"start\" x=\"322\" y=\"-7.8\" font-family=\"Helvetica,sans-Serif\" font-size=\"14.00\" fill=\"#000000\">class = benign</text>\n</g>\n<!-- 4&#45;&gt;5 -->\n<g id=\"edge5\" class=\"edge\">\n<title>4&#45;&gt;5</title>\n<path fill=\"none\" stroke=\"#000000\" d=\"M376.5316,-103.9815C375.6315,-95.618 374.6821,-86.7965 373.7721,-78.3409\"/>\n<polygon fill=\"#000000\" stroke=\"#000000\" points=\"377.2376,-77.8317 372.6876,-68.2637 370.2778,-78.5808 377.2376,-77.8317\"/>\n</g>\n<!-- 6 -->\n<g id=\"node7\" class=\"node\">\n<title>6</title>\n<path fill=\"#e68640\" stroke=\"#000000\" d=\"M559.5,-68C559.5,-68 454.5,-68 454.5,-68 448.5,-68 442.5,-62 442.5,-56 442.5,-56 442.5,-12 442.5,-12 442.5,-6 448.5,0 454.5,0 454.5,0 559.5,0 559.5,0 565.5,0 571.5,-6 571.5,-12 571.5,-12 571.5,-56 571.5,-56 571.5,-62 565.5,-68 559.5,-68\"/>\n<text text-anchor=\"start\" x=\"469\" y=\"-52.8\" font-family=\"Helvetica,sans-Serif\" font-size=\"14.00\" fill=\"#000000\">gini = 0.069</text>\n<text text-anchor=\"start\" x=\"463\" y=\"-37.8\" font-family=\"Helvetica,sans-Serif\" font-size=\"14.00\" fill=\"#000000\">samples = 70</text>\n<text text-anchor=\"start\" x=\"457\" y=\"-22.8\" font-family=\"Helvetica,sans-Serif\" font-size=\"14.00\" fill=\"#000000\">value = [107, 4]</text>\n<text text-anchor=\"start\" x=\"450.5\" y=\"-7.8\" font-family=\"Helvetica,sans-Serif\" font-size=\"14.00\" fill=\"#000000\">class = malignant</text>\n</g>\n<!-- 4&#45;&gt;6 -->\n<g id=\"edge6\" class=\"edge\">\n<title>4&#45;&gt;6</title>\n<path fill=\"none\" stroke=\"#000000\" d=\"M427.9177,-103.9815C438.6152,-94.5151 449.9756,-84.462 460.6492,-75.0168\"/>\n<polygon fill=\"#000000\" stroke=\"#000000\" points=\"463.1111,-77.5118 468.2805,-68.2637 458.4722,-72.2696 463.1111,-77.5118\"/>\n</g>\n</g>\n</svg>\n"
          },
          "metadata": {},
          "execution_count": 37
        }
      ]
    },
    {
      "cell_type": "code",
      "source": [
        "print(\"train_accuracy{:3f}\".format(clf.score(X_train,y_train)))\n",
        "print(\"test_accuracy{:3f}\".format(clf.score(X_test,y_test)))"
      ],
      "metadata": {
        "colab": {
          "base_uri": "https://localhost:8080/"
        },
        "id": "5_LTSQ2U4nvq",
        "outputId": "905d3223-f6ed-41d6-ae66-4f3f7b22c006"
      },
      "execution_count": null,
      "outputs": [
        {
          "output_type": "stream",
          "name": "stdout",
          "text": [
            "train_accuracy0.964824\n",
            "test_accuracy0.923977\n"
          ]
        }
      ]
    },
    {
      "cell_type": "code",
      "source": [
        "print(\"Feature names:\\n{}\".format(cancer.feature_names))\n",
        "print(\"Feature importances:\\n{}\".format(clf.feature_importances_))"
      ],
      "metadata": {
        "colab": {
          "base_uri": "https://localhost:8080/"
        },
        "id": "KWQJ_W_J7WIl",
        "outputId": "abfe6e47-ec2a-44c7-abb0-dcca2f2652e2"
      },
      "execution_count": null,
      "outputs": [
        {
          "output_type": "stream",
          "name": "stdout",
          "text": [
            "Feature names:\n",
            "['mean radius' 'mean texture' 'mean perimeter' 'mean area'\n",
            " 'mean smoothness' 'mean compactness' 'mean concavity'\n",
            " 'mean concave points' 'mean symmetry' 'mean fractal dimension'\n",
            " 'radius error' 'texture error' 'perimeter error' 'area error'\n",
            " 'smoothness error' 'compactness error' 'concavity error'\n",
            " 'concave points error' 'symmetry error' 'fractal dimension error'\n",
            " 'worst radius' 'worst texture' 'worst perimeter' 'worst area'\n",
            " 'worst smoothness' 'worst compactness' 'worst concavity'\n",
            " 'worst concave points' 'worst symmetry' 'worst fractal dimension']\n",
            "Feature importances:\n",
            "[0.0194164  0.00740289 0.03376088 0.0844259  0.         0.\n",
            " 0.07865214 0.1759636  0.         0.         0.04908162 0.\n",
            " 0.0046173  0.15722738 0.         0.         0.00191733 0.\n",
            " 0.00482161 0.         0.11552474 0.         0.00251589 0.04900105\n",
            " 0.         0.         0.00460409 0.19806076 0.         0.01300639]\n"
          ]
        }
      ]
    },
    {
      "cell_type": "code",
      "source": [
        "def plot_feature_importances_cancer(model):\n",
        "  plt.rcParams['font.size'] = 9\n",
        "  n_features = cancer.data.shape[1]\n",
        "  plt.barh(range(n_features),clf.feature_importances_, align='center')\n",
        "  plt.yticks(np.arange(n_features), cancer.feature_names)\n",
        "  plt.xlabel(\"Feature importance\")\n",
        "  plt.ylabel(\"Features\")\n",
        "\n",
        "plot_feature_importances_cancer(clf)"
      ],
      "metadata": {
        "colab": {
          "base_uri": "https://localhost:8080/",
          "height": 274
        },
        "id": "IPboZpff8ELk",
        "outputId": "d2022026-df6d-4e4a-fcb3-c4d991b2dbd5"
      },
      "execution_count": null,
      "outputs": [
        {
          "output_type": "display_data",
          "data": {
            "text/plain": [
              "<Figure size 432x288 with 1 Axes>"
            ],
            "image/png": "[encoded data removed]"
          },
          "metadata": {
            "needs_background": "light"
          }
        }
      ]
    },
    {
      "cell_type": "code",
      "source": [
        "import tensorflow as tf\n",
        "from tensorflow import keras\n",
        "\n",
        "import numpy as np\n",
        "\n",
        "print(tf.__version__)"
      ],
      "metadata": {
        "colab": {
          "base_uri": "https://localhost:8080/"
        },
        "id": "MdjG3ORI9Ok-",
        "outputId": "83914348-a558-4d6e-a177-fffa7ed6efd9"
      },
      "execution_count": null,
      "outputs": [
        {
          "output_type": "stream",
          "name": "stdout",
          "text": [
            "2.8.0\n"
          ]
        }
      ]
    },
    {
      "cell_type": "code",
      "source": [
        "imdb = keras.datasets.imdb\n",
        "\n",
        "(train_data, train_labels), (test_data, test_labels) = imdb.load_data(num_words=10000)"
      ],
      "metadata": {
        "colab": {
          "base_uri": "https://localhost:8080/"
        },
        "id": "ZXakK_suCU2b",
        "outputId": "fb9226a4-553b-4d78-aa7a-07c1b8ca1054"
      },
      "execution_count": null,
      "outputs": [
        {
          "output_type": "stream",
          "name": "stdout",
          "text": [
            "Downloading data from https://storage.googleapis.com/tensorflow/tf-keras-datasets/imdb.npz\n",
            "17465344/17464789 [==============================] - 0s 0us/step\n",
            "17473536/17464789 [==============================] - 0s 0us/step\n"
          ]
        }
      ]
    },
    {
      "cell_type": "code",
      "source": [
        "print(\"Training entries: {}, labels: {}\".format(len(train_data), len(train_labels)))"
      ],
      "metadata": {
        "colab": {
          "base_uri": "https://localhost:8080/"
        },
        "id": "Yz9cD7UeCZSi",
        "outputId": "c532827b-551c-4b25-e73d-8afe5811ba80"
      },
      "execution_count": null,
      "outputs": [
        {
          "output_type": "stream",
          "name": "stdout",
          "text": [
            "Training entries: 25000, labels: 25000\n"
          ]
        }
      ]
    },
    {
      "cell_type": "code",
      "source": [
        "print(train_data[0])"
      ],
      "metadata": {
        "colab": {
          "base_uri": "https://localhost:8080/"
        },
        "id": "q3KP6ISwCgeD",
        "outputId": "8280a5fe-26fc-44f0-dd4b-c8cca58c0b5b"
      },
      "execution_count": null,
      "outputs": [
        {
          "output_type": "stream",
          "name": "stdout",
          "text": [
            "[1, 14, 22, 16, 43, 530, 973, 1622, 1385, 65, 458, 4468, 66, 3941, 4, 173, 36, 256, 5, 25, 100, 43, 838, 112, 50, 670, 2, 9, 35, 480, 284, 5, 150, 4, 172, 112, 167, 2, 336, 385, 39, 4, 172, 4536, 1111, 17, 546, 38, 13, 447, 4, 192, 50, 16, 6, 147, 2025, 19, 14, 22, 4, 1920, 4613, 469, 4, 22, 71, 87, 12, 16, 43, 530, 38, 76, 15, 13, 1247, 4, 22, 17, 515, 17, 12, 16, 626, 18, 2, 5, 62, 386, 12, 8, 316, 8, 106, 5, 4, 2223, 5244, 16, 480, 66, 3785, 33, 4, 130, 12, 16, 38, 619, 5, 25, 124, 51, 36, 135, 48, 25, 1415, 33, 6, 22, 12, 215, 28, 77, 52, 5, 14, 407, 16, 82, 2, 8, 4, 107, 117, 5952, 15, 256, 4, 2, 7, 3766, 5, 723, 36, 71, 43, 530, 476, 26, 400, 317, 46, 7, 4, 2, 1029, 13, 104, 88, 4, 381, 15, 297, 98, 32, 2071, 56, 26, 141, 6, 194, 7486, 18, 4, 226, 22, 21, 134, 476, 26, 480, 5, 144, 30, 5535, 18, 51, 36, 28, 224, 92, 25, 104, 4, 226, 65, 16, 38, 1334, 88, 12, 16, 283, 5, 16, 4472, 113, 103, 32, 15, 16, 5345, 19, 178, 32]\n"
          ]
        }
      ]
    },
    {
      "cell_type": "code",
      "source": [
        "len(train_data[0]), len(train_data[1])"
      ],
      "metadata": {
        "colab": {
          "base_uri": "https://localhost:8080/"
        },
        "id": "2nAxgXZfClb3",
        "outputId": "59b35e8a-d752-454a-9033-6472e45b29f8"
      },
      "execution_count": null,
      "outputs": [
        {
          "output_type": "execute_result",
          "data": {
            "text/plain": [
              "(218, 189)"
            ]
          },
          "metadata": {},
          "execution_count": 49
        }
      ]
    },
    {
      "cell_type": "code",
      "source": [
        "# 単語を整数にマッピングする辞書\n",
        "word_index = imdb.get_word_index()\n",
        "\n",
        "# インデックスの最初の方は予約済み\n",
        "word_index = {k:(v+3) for k,v in word_index.items()} \n",
        "word_index[\"<PAD>\"] = 0\n",
        "word_index[\"<START>\"] = 1\n",
        "word_index[\"<UNK>\"] = 2  # unknown\n",
        "word_index[\"<UNUSED>\"] = 3\n",
        "\n",
        "reverse_word_index = dict([(value, key) for (key, value) in word_index.items()])\n",
        "\n",
        "def decode_review(text):\n",
        "    return ' '.join([reverse_word_index.get(i, '?') for i in text])"
      ],
      "metadata": {
        "colab": {
          "base_uri": "https://localhost:8080/"
        },
        "id": "DD__D19ICxhq",
        "outputId": "dc9d3e5a-4d3f-4581-cc37-929ce6e1db86"
      },
      "execution_count": null,
      "outputs": [
        {
          "output_type": "stream",
          "name": "stdout",
          "text": [
            "Downloading data from https://storage.googleapis.com/tensorflow/tf-keras-datasets/imdb_word_index.json\n",
            "1646592/1641221 [==============================] - 0s 0us/step\n",
            "1654784/1641221 [==============================] - 0s 0us/step\n"
          ]
        }
      ]
    },
    {
      "cell_type": "code",
      "source": [
        "decode_review(train_data[0])"
      ],
      "metadata": {
        "colab": {
          "base_uri": "https://localhost:8080/",
          "height": 144
        },
        "id": "sTeL7ojQC1af",
        "outputId": "d4b50760-dd5b-4398-8e2d-e1088f07fa6d"
      },
      "execution_count": null,
      "outputs": [
        {
          "output_type": "execute_result",
          "data": {
            "text/plain": [
              "\"<START> this film was just brilliant casting location scenery story direction everyone's really suited the part they played and you could just imagine being there robert <UNK> is an amazing actor and now the same being director <UNK> father came from the same scottish island as myself so i loved the fact there was a real connection with this film the witty remarks throughout the film were great it was just brilliant so much that i bought the film as soon as it was released for <UNK> and would recommend it to everyone to watch and the fly fishing was amazing really cried at the end it was so sad and you know what they say if you cry at a film it must have been good and this definitely was also <UNK> to the two little boy's that played the <UNK> of norman and paul they were just brilliant children are often left out of the <UNK> list i think because the stars that play them all grown up are such a big profile for the whole film but these children are amazing and should be praised for what they have done don't you think the whole story was so lovely because it was true and was someone's life after all that was shared with us all\""
            ],
            "application/vnd.google.colaboratory.intrinsic+json": {
              "type": "string"
            }
          },
          "metadata": {},
          "execution_count": 51
        }
      ]
    },
    {
      "cell_type": "code",
      "source": [],
      "metadata": {
        "id": "JeQKTaeYDGmd"
      },
      "execution_count": null,
      "outputs": []
    }
  ]
}